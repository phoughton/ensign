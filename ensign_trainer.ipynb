{
  "nbformat": 4,
  "nbformat_minor": 0,
  "metadata": {
    "colab": {
      "name": "Untitled1.ipynb",
      "provenance": [],
      "include_colab_link": true
    },
    "kernelspec": {
      "name": "python3",
      "display_name": "Python 3"
    },
    "accelerator": "GPU"
  },
  "cells": [
    {
      "cell_type": "markdown",
      "metadata": {
        "id": "view-in-github",
        "colab_type": "text"
      },
      "source": [
        "<a href=\"https://colab.research.google.com/github/phoughton/ensign/blob/master/ensign_trainer.ipynb\" target=\"_parent\"><img src=\"https://colab.research.google.com/assets/colab-badge.svg\" alt=\"Open In Colab\"/></a>"
      ]
    },
    {
      "cell_type": "code",
      "metadata": {
        "id": "CZqmW4bNiNtI",
        "colab_type": "code",
        "colab": {
          "base_uri": "https://localhost:8080/",
          "height": 121
        },
        "outputId": "f1a5d9f4-1830-4a92-a62a-1848ea063762"
      },
      "source": [
        "!pip install -Uqq fastbook\n",
        "import fastbook\n",
        "fastbook.setup_book()\n",
        "\n",
        "from fastbook import *\n"
      ],
      "execution_count": null,
      "outputs": [
        {
          "output_type": "stream",
          "text": [
            "Go to this URL in a browser: https://accounts.google.com/o/oauth2/auth?client_id=947318989803-6bn6qk8qdgf4n4g3pfee6491hc0brc4i.apps.googleusercontent.com&redirect_uri=urn%3aietf%3awg%3aoauth%3a2.0%3aoob&scope=email%20https%3a%2f%2fwww.googleapis.com%2fauth%2fdocs.test%20https%3a%2f%2fwww.googleapis.com%2fauth%2fdrive%20https%3a%2f%2fwww.googleapis.com%2fauth%2fdrive.photos.readonly%20https%3a%2f%2fwww.googleapis.com%2fauth%2fpeopleapi.readonly&response_type=code\n",
            "\n",
            "Enter your authorization code:\n",
            "··········\n",
            "Mounted at /content/gdrive\n"
          ],
          "name": "stdout"
        }
      ]
    },
    {
      "cell_type": "code",
      "metadata": {
        "id": "7T16L3BYPu6C",
        "colab_type": "code",
        "colab": {}
      },
      "source": [
        "key = 'XXX'"
      ],
      "execution_count": null,
      "outputs": []
    },
    {
      "cell_type": "code",
      "metadata": {
        "id": "x9IvDGPWPxto",
        "colab_type": "code",
        "colab": {}
      },
      "source": [
        "bear_types = 'grizzly','black','teddy'\n",
        "path = Path('bears')"
      ],
      "execution_count": null,
      "outputs": []
    },
    {
      "cell_type": "code",
      "metadata": {
        "id": "WIg0P1srP2fs",
        "colab_type": "code",
        "colab": {}
      },
      "source": [
        "if not path.exists():\n",
        "    path.mkdir()\n",
        "    for o in bear_types:\n",
        "        dest = (path/o)\n",
        "        dest.mkdir(exist_ok=True)\n",
        "        results = search_images_bing(key, f'{o} bear')\n",
        "        download_images(dest, urls=results.attrgot('content_url'))"
      ],
      "execution_count": null,
      "outputs": []
    },
    {
      "cell_type": "code",
      "metadata": {
        "id": "_m_HwlCtP7-_",
        "colab_type": "code",
        "colab": {}
      },
      "source": [
        "fns = get_image_files(path)\n",
        "fns"
      ],
      "execution_count": null,
      "outputs": []
    },
    {
      "cell_type": "code",
      "metadata": {
        "id": "RyFCU_M7P_IT",
        "colab_type": "code",
        "colab": {}
      },
      "source": [
        "failed = verify_images(fns)\n",
        "failed"
      ],
      "execution_count": null,
      "outputs": []
    },
    {
      "cell_type": "code",
      "metadata": {
        "id": "6tstDVQ7QAGi",
        "colab_type": "code",
        "colab": {}
      },
      "source": [
        "failed.map(Path.unlink);\n"
      ],
      "execution_count": null,
      "outputs": []
    },
    {
      "cell_type": "code",
      "metadata": {
        "id": "WrzeyKchQHLn",
        "colab_type": "code",
        "colab": {}
      },
      "source": [
        "bears = DataBlock(\n",
        "    blocks=(ImageBlock, CategoryBlock), \n",
        "    get_items=get_image_files, \n",
        "    splitter=RandomSplitter(valid_pct=0.2, seed=42),\n",
        "    get_y=parent_label,\n",
        "    item_tfms=Resize(128))\n",
        "\n",
        "dls = bears.dataloaders(path)"
      ],
      "execution_count": null,
      "outputs": []
    },
    {
      "cell_type": "code",
      "metadata": {
        "id": "JkpNGvH0QdRy",
        "colab_type": "code",
        "colab": {}
      },
      "source": [
        "dls.valid.show_batch(max_n=4, nrows=1)"
      ],
      "execution_count": null,
      "outputs": []
    },
    {
      "cell_type": "code",
      "metadata": {
        "id": "F77w7TJ4QoPp",
        "colab_type": "code",
        "colab": {}
      },
      "source": [
        "learn = cnn_learner(dls, resnet18, metrics=error_rate)\n",
        "learn.fine_tune(4)"
      ],
      "execution_count": null,
      "outputs": []
    },
    {
      "cell_type": "code",
      "metadata": {
        "id": "NpavMephQxQ6",
        "colab_type": "code",
        "colab": {}
      },
      "source": [
        "interp = ClassificationInterpretation.from_learner(learn)\n",
        "interp.plot_confusion_matrix()"
      ],
      "execution_count": null,
      "outputs": []
    },
    {
      "cell_type": "code",
      "metadata": {
        "id": "_IdvCAtCQ7Bj",
        "colab_type": "code",
        "colab": {}
      },
      "source": [
        "learn.export()\n",
        "path = Path()\n",
        "path.ls(file_exts='.pkl')"
      ],
      "execution_count": null,
      "outputs": []
    }
  ]
}